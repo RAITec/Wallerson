{
 "cells": [
  {
   "cell_type": "code",
   "execution_count": null,
   "id": "127f436a-420e-4909-8abd-f2f505e0ae35",
   "metadata": {},
   "outputs": [],
   "source": [
    "from selenium import webdriver\n",
    "from webdriver_manager.chrome import ChromeDriverManager\n",
    "from selenium.webdriver.chrome.service import Service\n",
    "import time\n",
    "\n",
    "# Define o diretório personalizado para downloads\n",
    "diretorio_downloads = r\"C:\\Users\\adria\\Downloads\\Vídeos Editar\"\n",
    "\n",
    "# Configurações do Chrome para alterar a pasta de downloads\n",
    "chrome_options = webdriver.ChromeOptions()\n",
    "prefs = {\n",
    "    \"download.default_directory\": diretorio_downloads,  # Define a pasta de downloads\n",
    "    \"download.prompt_for_download\": False,  # Desativa prompts para downloads\n",
    "    \"download.directory_upgrade\": True,  # Atualiza a pasta de downloads sem confirmação\n",
    "    \"safebrowsing.enabled\": True  # Evita alertas de segurança\n",
    "}\n",
    "chrome_options.add_experimental_option(\"prefs\", prefs)\n",
    "\n",
    "# Inicializa o navegador com as opções configuradas\n",
    "servico = Service(ChromeDriverManager().install())\n",
    "navegador = webdriver.Chrome(service=servico, options=chrome_options)\n",
    "\n",
    "# Acessa o site\n",
    "navegador.get(\"https://pixabay.com/pt/\")\n",
    "time.sleep(3)\n",
    "navegador.find_element('xpath', '//*[@id=\"app\"]/div[1]/div[2]/div[1]/div[2]/div[1]/div[1]/div[1]/div/a/img').click()\n",
    "navegador.find_element('xpath', '//*[@id=\"app\"]/div[1]/div/div/div/div[1]/div[1]/div[1]/div[2]/div[2]/div/div[1]/button').click()\n",
    "navegador.find_element('xpath', '//*[@id=\"app\"]/div[1]/div/div/div/div[1]/div[1]/div[1]/div[2]/div[2]/div/div[2]/div/div/div[2]/a[1]').click()"
   ]
  },
  {
   "cell_type": "code",
   "execution_count": null,
   "id": "0889c953-6305-4c48-833f-d5ffdcd740c6",
   "metadata": {},
   "outputs": [],
   "source": []
  }
 ],
 "metadata": {
  "kernelspec": {
   "display_name": "Python 3 (ipykernel)",
   "language": "python",
   "name": "python3"
  },
  "language_info": {
   "codemirror_mode": {
    "name": "ipython",
    "version": 3
   },
   "file_extension": ".py",
   "mimetype": "text/x-python",
   "name": "python",
   "nbconvert_exporter": "python",
   "pygments_lexer": "ipython3",
   "version": "3.12.7"
  }
 },
 "nbformat": 4,
 "nbformat_minor": 5
}
